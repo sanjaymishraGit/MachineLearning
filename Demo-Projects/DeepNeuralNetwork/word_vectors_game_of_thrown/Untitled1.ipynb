{
 "cells": [
  {
   "cell_type": "code",
   "execution_count": 1,
   "metadata": {
    "collapsed": true
   },
   "outputs": [],
   "source": [
    "import numpy as np\n"
   ]
  },
  {
   "cell_type": "code",
   "execution_count": 7,
   "metadata": {},
   "outputs": [],
   "source": [
    "#Step1: Collect data\n",
    "X= np.array([[0,0,1],[0,1,1],[1,0,1],[1,1,1]])\n",
    "Y = np.array([[0],[1],[1],[0]])"
   ]
  },
  {
   "cell_type": "code",
   "execution_count": 5,
   "metadata": {},
   "outputs": [
    {
     "name": "stdout",
     "output_type": "stream",
     "text": [
      "[[0 0 1]\n",
      " [0 1 1]\n",
      " [1 0 1]\n",
      " [1 1 1]]\n"
     ]
    }
   ],
   "source": [
    "print(X)"
   ]
  },
  {
   "cell_type": "code",
   "execution_count": 6,
   "metadata": {},
   "outputs": [
    {
     "name": "stdout",
     "output_type": "stream",
     "text": [
      "[[0]\n",
      " [1]\n",
      " [1]\n",
      " [0]]\n"
     ]
    }
   ],
   "source": [
    "print(Y)\n"
   ]
  },
  {
   "cell_type": "code",
   "execution_count": 12,
   "metadata": {
    "collapsed": true
   },
   "outputs": [],
   "source": [
    "# Step2: Build Model\n",
    "num_epochs = 60000\n",
    "#initialize weights\n",
    "# This is for input node : size is 3*4 and weight value is -1<w<1\n",
    "syn0 = 2*np.random.random((3,4)) - 1\n",
    "#This is from hidden node to output node : size needs to be 4*1 and weeight needs to be -1<w<1\n",
    "syn1 = 2*np.random.random((4,1)) - 1\n"
   ]
  },
  {
   "cell_type": "code",
   "execution_count": 9,
   "metadata": {},
   "outputs": [
    {
     "name": "stdout",
     "output_type": "stream",
     "text": [
      "[[-0.29218349  0.5386815   0.97002551 -0.23058706]\n",
      " [-0.01260555  0.70336317 -0.18006498  0.63761372]\n",
      " [ 0.30755758  0.31912164 -0.69950535  0.18957302]]\n"
     ]
    }
   ],
   "source": [
    "print(syn0)"
   ]
  },
  {
   "cell_type": "code",
   "execution_count": 15,
   "metadata": {},
   "outputs": [
    {
     "name": "stdout",
     "output_type": "stream",
     "text": [
      "[[ 0.16777306]\n",
      " [-0.34574681]\n",
      " [ 0.410445  ]\n",
      " [ 0.39800252]]\n"
     ]
    }
   ],
   "source": [
    "print(syn1)"
   ]
  },
  {
   "cell_type": "code",
   "execution_count": 21,
   "metadata": {},
   "outputs": [
    {
     "name": "stdout",
     "output_type": "stream",
     "text": [
      "Error:0.49999426512\n",
      "Error:0.00947698935365\n",
      "Error:0.00647411114489\n",
      "Error:0.00521180008737\n",
      "Error:0.00447669096137\n",
      "Error:0.00398200751246\n"
     ]
    }
   ],
   "source": [
    "#Sigmoid function for activation function\n",
    "def nonlin(x,deriv=False):\n",
    "    if(deriv==True):\n",
    "        return x*(1-x)\n",
    "\n",
    "    return 1/(1+np.exp(-x))\n",
    "\n",
    "#Step 3 Train Model\n",
    "for j in range(num_epochs):\n",
    "    #feed forward through layers 0,1, and 2\n",
    "    k0 = X\n",
    "    k1 = nonlin(np.dot(k0, syn0))\n",
    "    k2 = nonlin(np.dot(k1, syn1))\n",
    "    #how much did we miss the target value?\n",
    "    k2_error = Y - k2\n",
    "    \n",
    "    if (j% 10000) == 0:\n",
    "        print( \"Error:\" + str(np.mean(np.abs(k2_error))))\n",
    "    \n",
    "    #in what direction is the target value?\n",
    "    k2_delta = k2_error*nonlin(k2, deriv=True)\n",
    "    \n",
    "    #how much did each k1 value contribute to k2 error\n",
    "    #backpropogation- update weight value\n",
    "    k1_error = k2_delta.dot(syn1.T)\n",
    "    \n",
    "    #in what direction is the target value?\n",
    "    k1_delta= k1_error * nonlin(k1,deriv=True)\n",
    "    \n",
    "    \n",
    "    syn1 += k1.T.dot(k2_delta)\n",
    "    syn0 += k0.T.dot(k1_delta)\n",
    "    \n",
    "\n",
    "\n",
    "\n"
   ]
  },
  {
   "cell_type": "code",
   "execution_count": null,
   "metadata": {
    "collapsed": true
   },
   "outputs": [],
   "source": []
  }
 ],
 "metadata": {
  "kernelspec": {
   "display_name": "Python 3",
   "language": "python",
   "name": "python3"
  },
  "language_info": {
   "codemirror_mode": {
    "name": "ipython",
    "version": 3
   },
   "file_extension": ".py",
   "mimetype": "text/x-python",
   "name": "python",
   "nbconvert_exporter": "python",
   "pygments_lexer": "ipython3",
   "version": "3.6.1"
  }
 },
 "nbformat": 4,
 "nbformat_minor": 2
}
