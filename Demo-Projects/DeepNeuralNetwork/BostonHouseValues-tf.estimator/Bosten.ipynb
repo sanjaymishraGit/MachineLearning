{
 "cells": [
  {
   "cell_type": "code",
   "execution_count": 1,
   "metadata": {
    "collapsed": true
   },
   "outputs": [],
   "source": [
    "#BostonHouseValues-tf.estimator\n",
    "#we'll write an input function for preprocessing a subset of Boston housing data pulled from the UCI Housing Data Set and use it to feed data to a neural network regressor for predicting median house values.\n"
   ]
  },
  {
   "cell_type": "code",
   "execution_count": 3,
   "metadata": {
    "collapsed": true
   },
   "outputs": [],
   "source": [
    "import itertools\n",
    "\n",
    "import pandas as pd\n",
    "import tensorflow as tf\n",
    "tf.logging.set_verbosity(tf.logging.INFO)"
   ]
  },
  {
   "cell_type": "code",
   "execution_count": 5,
   "metadata": {},
   "outputs": [],
   "source": [
    "#Define the column names for the data set in COLUMNS. To distinguish features from the label, also define FEATURES and LABEL. Then read the three CSVs (tf.train, tf.test, and predict) into pandas DataFrames:\n",
    "COLUMNS = [\"crim\", \"zn\", \"indus\", \"nox\", \"rm\", \"age\",\"dis\", \"tax\", \"ptratio\", \"medv\"]\n",
    "FEATURES = [\"crim\", \"zn\", \"indus\", \"nox\", \"rm\",\"age\", \"dis\", \"tax\", \"ptratio\"]\n",
    "LABEL = \"medv\""
   ]
  },
  {
   "cell_type": "code",
   "execution_count": 11,
   "metadata": {},
   "outputs": [
    {
     "data": {
      "text/html": [
       "<div>\n",
       "<style>\n",
       "    .dataframe thead tr:only-child th {\n",
       "        text-align: right;\n",
       "    }\n",
       "\n",
       "    .dataframe thead th {\n",
       "        text-align: left;\n",
       "    }\n",
       "\n",
       "    .dataframe tbody tr th {\n",
       "        vertical-align: top;\n",
       "    }\n",
       "</style>\n",
       "<table border=\"1\" class=\"dataframe\">\n",
       "  <thead>\n",
       "    <tr style=\"text-align: right;\">\n",
       "      <th></th>\n",
       "      <th>crim</th>\n",
       "      <th>zn</th>\n",
       "      <th>indus</th>\n",
       "      <th>nox</th>\n",
       "      <th>rm</th>\n",
       "      <th>age</th>\n",
       "      <th>dis</th>\n",
       "      <th>tax</th>\n",
       "      <th>ptratio</th>\n",
       "      <th>medv</th>\n",
       "    </tr>\n",
       "  </thead>\n",
       "  <tbody>\n",
       "    <tr>\n",
       "      <th>0</th>\n",
       "      <td>0.03359</td>\n",
       "      <td>75.0</td>\n",
       "      <td>2.95</td>\n",
       "      <td>0.428</td>\n",
       "      <td>7.024</td>\n",
       "      <td>15.8</td>\n",
       "      <td>5.4011</td>\n",
       "      <td>252</td>\n",
       "      <td>18.3</td>\n",
       "      <td>NaN</td>\n",
       "    </tr>\n",
       "    <tr>\n",
       "      <th>1</th>\n",
       "      <td>5.09017</td>\n",
       "      <td>0.0</td>\n",
       "      <td>18.10</td>\n",
       "      <td>0.713</td>\n",
       "      <td>6.297</td>\n",
       "      <td>91.8</td>\n",
       "      <td>2.3682</td>\n",
       "      <td>666</td>\n",
       "      <td>20.2</td>\n",
       "      <td>NaN</td>\n",
       "    </tr>\n",
       "    <tr>\n",
       "      <th>2</th>\n",
       "      <td>0.12650</td>\n",
       "      <td>25.0</td>\n",
       "      <td>5.13</td>\n",
       "      <td>0.453</td>\n",
       "      <td>6.762</td>\n",
       "      <td>43.4</td>\n",
       "      <td>7.9809</td>\n",
       "      <td>284</td>\n",
       "      <td>19.7</td>\n",
       "      <td>NaN</td>\n",
       "    </tr>\n",
       "    <tr>\n",
       "      <th>3</th>\n",
       "      <td>0.05515</td>\n",
       "      <td>33.0</td>\n",
       "      <td>2.18</td>\n",
       "      <td>0.472</td>\n",
       "      <td>7.236</td>\n",
       "      <td>41.1</td>\n",
       "      <td>4.0220</td>\n",
       "      <td>222</td>\n",
       "      <td>18.4</td>\n",
       "      <td>NaN</td>\n",
       "    </tr>\n",
       "    <tr>\n",
       "      <th>4</th>\n",
       "      <td>8.15174</td>\n",
       "      <td>0.0</td>\n",
       "      <td>18.10</td>\n",
       "      <td>0.700</td>\n",
       "      <td>5.390</td>\n",
       "      <td>98.9</td>\n",
       "      <td>1.7281</td>\n",
       "      <td>666</td>\n",
       "      <td>20.2</td>\n",
       "      <td>NaN</td>\n",
       "    </tr>\n",
       "    <tr>\n",
       "      <th>5</th>\n",
       "      <td>0.24522</td>\n",
       "      <td>0.0</td>\n",
       "      <td>9.90</td>\n",
       "      <td>0.544</td>\n",
       "      <td>5.782</td>\n",
       "      <td>71.7</td>\n",
       "      <td>4.0317</td>\n",
       "      <td>304</td>\n",
       "      <td>18.4</td>\n",
       "      <td>NaN</td>\n",
       "    </tr>\n",
       "  </tbody>\n",
       "</table>\n",
       "</div>"
      ],
      "text/plain": [
       "      crim    zn  indus    nox     rm   age     dis  tax  ptratio  medv\n",
       "0  0.03359  75.0   2.95  0.428  7.024  15.8  5.4011  252     18.3   NaN\n",
       "1  5.09017   0.0  18.10  0.713  6.297  91.8  2.3682  666     20.2   NaN\n",
       "2  0.12650  25.0   5.13  0.453  6.762  43.4  7.9809  284     19.7   NaN\n",
       "3  0.05515  33.0   2.18  0.472  7.236  41.1  4.0220  222     18.4   NaN\n",
       "4  8.15174   0.0  18.10  0.700  5.390  98.9  1.7281  666     20.2   NaN\n",
       "5  0.24522   0.0   9.90  0.544  5.782  71.7  4.0317  304     18.4   NaN"
      ]
     },
     "execution_count": 11,
     "metadata": {},
     "output_type": "execute_result"
    }
   ],
   "source": [
    "training_set = pd.read_csv(\"boston_train.csv\", skipinitialspace=True,skiprows=1, names=COLUMNS)\n",
    "test_set = pd.read_csv(\"boston_test.csv\", skipinitialspace=True,skiprows=1, names=COLUMNS)\n",
    "prediction_set = pd.read_csv(\"boston_predict.csv\", skipinitialspace=True,skiprows=1, names=COLUMNS)\n",
    "#training_set.head(10)\n",
    "#test_set.head(10)\n",
    "prediction_set.head(10)\n"
   ]
  },
  {
   "cell_type": "code",
   "execution_count": 14,
   "metadata": {},
   "outputs": [
    {
     "name": "stdout",
     "output_type": "stream",
     "text": [
      "INFO:tensorflow:Using default config.\n",
      "INFO:tensorflow:Using config: {'_model_dir': '/tmp/boston_model', '_tf_random_seed': 1, '_save_summary_steps': 100, '_save_checkpoints_secs': 600, '_save_checkpoints_steps': None, '_session_config': None, '_keep_checkpoint_max': 5, '_keep_checkpoint_every_n_hours': 10000, '_log_step_count_steps': 100}\n"
     ]
    }
   ],
   "source": [
    "#Defining FeatureColumns and Creating the Regressor\n",
    "#create a list of FeatureColumns for the input data, which formally specify the set of features to use for training.\n",
    "#all features in the housing data set contain continuous values, you can create their FeatureColumns using the tf.contrib.layers.real_valued_column() function:\n",
    "\n",
    "feature_cols = [tf.feature_column.numeric_column(k) for k in FEATURES]\n",
    "#instantiate a DNNRegressor for the neural network regression model. \n",
    "#You'll need to provide two arguments here: hidden_units, a hyperparameter specifying the number of nodes in each hidden layer \n",
    "#(here, two hidden layers with 10 nodes each), and feature_columns, \n",
    "#containing the list of FeatureColumns you just defined\n",
    "regressor = tf.estimator.DNNRegressor(feature_columns=feature_cols,hidden_units=[10, 10],model_dir=\"/tmp/boston_model\")\n",
    "#Building the input_fn\n",
    "#To pass input data into the regressor, write a factory method that accepts a pandas Dataframe and returns an input_fn:\n",
    "def get_input_fn(data_set, num_epochs=None, shuffle=True):\n",
    "    \n",
    "    return tf.estimator.inputs.pandas_input_fn(x=pd.DataFrame({k: data_set[k].values for k in FEATURES}),\n",
    "                                             y = pd.Series(data_set[LABEL].values),\n",
    "                                             num_epochs=num_epochs,\n",
    "                                             shuffle=shuffle)\n",
    "\n"
   ]
  },
  {
   "cell_type": "code",
   "execution_count": 15,
   "metadata": {},
   "outputs": [
    {
     "name": "stdout",
     "output_type": "stream",
     "text": [
      "INFO:tensorflow:Create CheckpointSaverHook.\n",
      "INFO:tensorflow:Saving checkpoints for 1 into /tmp/boston_model\\model.ckpt.\n",
      "INFO:tensorflow:loss = 65181.9, step = 1\n",
      "INFO:tensorflow:global_step/sec: 213.754\n",
      "INFO:tensorflow:loss = 12071.7, step = 101 (0.469 sec)\n",
      "INFO:tensorflow:global_step/sec: 228.051\n",
      "INFO:tensorflow:loss = 9339.46, step = 201 (0.378 sec)\n",
      "INFO:tensorflow:global_step/sec: 282.903\n",
      "INFO:tensorflow:loss = 9458.73, step = 301 (0.374 sec)\n",
      "INFO:tensorflow:global_step/sec: 286.433\n",
      "INFO:tensorflow:loss = 6145.79, step = 401 (0.329 sec)\n",
      "INFO:tensorflow:global_step/sec: 289.915\n",
      "INFO:tensorflow:loss = 5803.35, step = 501 (0.361 sec)\n",
      "INFO:tensorflow:global_step/sec: 288.331\n",
      "INFO:tensorflow:loss = 9085.06, step = 601 (0.337 sec)\n",
      "INFO:tensorflow:global_step/sec: 258.305\n",
      "INFO:tensorflow:loss = 6616.0, step = 701 (0.390 sec)\n",
      "INFO:tensorflow:global_step/sec: 278.28\n",
      "INFO:tensorflow:loss = 6990.19, step = 801 (0.371 sec)\n",
      "INFO:tensorflow:global_step/sec: 292.195\n",
      "INFO:tensorflow:loss = 7876.19, step = 901 (0.323 sec)\n",
      "INFO:tensorflow:global_step/sec: 297.703\n",
      "INFO:tensorflow:loss = 9060.8, step = 1001 (0.342 sec)\n",
      "INFO:tensorflow:global_step/sec: 309.797\n",
      "INFO:tensorflow:loss = 3654.01, step = 1101 (0.317 sec)\n",
      "INFO:tensorflow:global_step/sec: 305.752\n",
      "INFO:tensorflow:loss = 9110.75, step = 1201 (0.343 sec)\n",
      "INFO:tensorflow:global_step/sec: 280.125\n",
      "INFO:tensorflow:loss = 4086.23, step = 1301 (0.357 sec)\n",
      "INFO:tensorflow:global_step/sec: 278.446\n",
      "INFO:tensorflow:loss = 5058.21, step = 1401 (0.349 sec)\n",
      "INFO:tensorflow:global_step/sec: 292.319\n",
      "INFO:tensorflow:loss = 9265.47, step = 1501 (0.336 sec)\n",
      "INFO:tensorflow:global_step/sec: 287.94\n",
      "INFO:tensorflow:loss = 4156.72, step = 1601 (0.347 sec)\n",
      "INFO:tensorflow:global_step/sec: 284.586\n",
      "INFO:tensorflow:loss = 5875.1, step = 1701 (0.353 sec)\n",
      "INFO:tensorflow:global_step/sec: 297.176\n",
      "INFO:tensorflow:loss = 3006.74, step = 1801 (0.335 sec)\n",
      "INFO:tensorflow:global_step/sec: 285.497\n",
      "INFO:tensorflow:loss = 5161.84, step = 1901 (0.356 sec)\n",
      "INFO:tensorflow:global_step/sec: 301.804\n",
      "INFO:tensorflow:loss = 4676.58, step = 2001 (0.325 sec)\n",
      "INFO:tensorflow:global_step/sec: 304.674\n",
      "INFO:tensorflow:loss = 5077.63, step = 2101 (0.344 sec)\n",
      "INFO:tensorflow:global_step/sec: 268.977\n",
      "INFO:tensorflow:loss = 3255.26, step = 2201 (0.356 sec)\n",
      "INFO:tensorflow:global_step/sec: 299.846\n",
      "INFO:tensorflow:loss = 6069.2, step = 2301 (0.334 sec)\n",
      "INFO:tensorflow:global_step/sec: 250.491\n",
      "INFO:tensorflow:loss = 2202.1, step = 2401 (0.415 sec)\n",
      "INFO:tensorflow:global_step/sec: 272.034\n",
      "INFO:tensorflow:loss = 4135.39, step = 2501 (0.368 sec)\n",
      "INFO:tensorflow:global_step/sec: 287.695\n",
      "INFO:tensorflow:loss = 3162.36, step = 2601 (0.332 sec)\n",
      "INFO:tensorflow:global_step/sec: 247.396\n",
      "INFO:tensorflow:loss = 2752.52, step = 2701 (0.404 sec)\n",
      "INFO:tensorflow:global_step/sec: 295.839\n",
      "INFO:tensorflow:loss = 3575.67, step = 2801 (0.354 sec)\n",
      "INFO:tensorflow:global_step/sec: 285.167\n",
      "INFO:tensorflow:loss = 3972.13, step = 2901 (0.341 sec)\n",
      "INFO:tensorflow:global_step/sec: 260.396\n",
      "INFO:tensorflow:loss = 3433.81, step = 3001 (0.379 sec)\n",
      "INFO:tensorflow:global_step/sec: 278.242\n",
      "INFO:tensorflow:loss = 5871.25, step = 3101 (0.365 sec)\n",
      "INFO:tensorflow:global_step/sec: 269.999\n",
      "INFO:tensorflow:loss = 3322.51, step = 3201 (0.371 sec)\n",
      "INFO:tensorflow:global_step/sec: 286.451\n",
      "INFO:tensorflow:loss = 5867.36, step = 3301 (0.343 sec)\n",
      "INFO:tensorflow:global_step/sec: 301.631\n",
      "INFO:tensorflow:loss = 3480.35, step = 3401 (0.347 sec)\n",
      "INFO:tensorflow:global_step/sec: 283.205\n",
      "INFO:tensorflow:loss = 5352.14, step = 3501 (0.353 sec)\n",
      "INFO:tensorflow:global_step/sec: 268.884\n",
      "INFO:tensorflow:loss = 3313.07, step = 3601 (0.356 sec)\n",
      "INFO:tensorflow:global_step/sec: 304.066\n",
      "INFO:tensorflow:loss = 4614.16, step = 3701 (0.345 sec)\n",
      "INFO:tensorflow:global_step/sec: 249.206\n",
      "INFO:tensorflow:loss = 4214.84, step = 3801 (0.386 sec)\n",
      "INFO:tensorflow:global_step/sec: 286.438\n",
      "INFO:tensorflow:loss = 3520.47, step = 3901 (0.349 sec)\n",
      "INFO:tensorflow:global_step/sec: 281.233\n",
      "INFO:tensorflow:loss = 4723.1, step = 4001 (0.356 sec)\n",
      "INFO:tensorflow:global_step/sec: 274.723\n",
      "INFO:tensorflow:loss = 2068.28, step = 4101 (0.371 sec)\n",
      "INFO:tensorflow:global_step/sec: 250.791\n",
      "INFO:tensorflow:loss = 2617.09, step = 4201 (0.392 sec)\n",
      "INFO:tensorflow:global_step/sec: 296.229\n",
      "INFO:tensorflow:loss = 3304.2, step = 4301 (0.338 sec)\n",
      "INFO:tensorflow:global_step/sec: 272.416\n",
      "INFO:tensorflow:loss = 2991.55, step = 4401 (0.367 sec)\n",
      "INFO:tensorflow:global_step/sec: 277.157\n",
      "INFO:tensorflow:loss = 3305.3, step = 4501 (0.366 sec)\n",
      "INFO:tensorflow:global_step/sec: 301.637\n",
      "INFO:tensorflow:loss = 4108.64, step = 4601 (0.347 sec)\n",
      "INFO:tensorflow:global_step/sec: 247.302\n",
      "INFO:tensorflow:loss = 1951.53, step = 4701 (0.387 sec)\n",
      "INFO:tensorflow:global_step/sec: 277.565\n",
      "INFO:tensorflow:loss = 3664.01, step = 4801 (0.363 sec)\n",
      "INFO:tensorflow:global_step/sec: 281.466\n",
      "INFO:tensorflow:loss = 4180.98, step = 4901 (0.355 sec)\n",
      "INFO:tensorflow:Saving checkpoints for 5000 into /tmp/boston_model\\model.ckpt.\n",
      "INFO:tensorflow:Loss for final step: 1869.2.\n"
     ]
    },
    {
     "data": {
      "text/plain": [
       "<tensorflow.python.estimator.canned.dnn.DNNRegressor at 0x2d2f2121a90>"
      ]
     },
     "execution_count": 15,
     "metadata": {},
     "output_type": "execute_result"
    }
   ],
   "source": [
    "#Training the Regressor\n",
    "regressor.train(input_fn=get_input_fn(training_set), steps=5000)"
   ]
  },
  {
   "cell_type": "code",
   "execution_count": 16,
   "metadata": {},
   "outputs": [
    {
     "name": "stdout",
     "output_type": "stream",
     "text": [
      "INFO:tensorflow:Starting evaluation at 2017-09-30-05:08:05\n",
      "INFO:tensorflow:Restoring parameters from /tmp/boston_model\\model.ckpt-5000\n",
      "INFO:tensorflow:Finished evaluation at 2017-09-30-05:08:05\n",
      "INFO:tensorflow:Saving dict for global step 5000: average_loss = 12.2721, global_step = 5000, loss = 1227.21\n",
      "Loss: 1227.209839\n"
     ]
    }
   ],
   "source": [
    "#Evaluating the Model\n",
    "ev = regressor.evaluate(input_fn=get_input_fn(test_set, num_epochs=1, shuffle=False))\n",
    "#retrive loss\n",
    "loss_score = ev[\"loss\"]\n",
    "print(\"Loss: {0:f}\".format(loss_score))"
   ]
  },
  {
   "cell_type": "code",
   "execution_count": 17,
   "metadata": {},
   "outputs": [
    {
     "name": "stdout",
     "output_type": "stream",
     "text": [
      "INFO:tensorflow:Restoring parameters from /tmp/boston_model\\model.ckpt-5000\n",
      "Predictions: [array([ 34.77877045], dtype=float32), array([ 19.55076027], dtype=float32), array([ 23.80444717], dtype=float32), array([ 36.26771927], dtype=float32), array([ 15.91741848], dtype=float32), array([ 19.43694878], dtype=float32)]\n"
     ]
    }
   ],
   "source": [
    "#Making Predictions\n",
    "\n",
    "y = regressor.predict(input_fn=get_input_fn(prediction_set, num_epochs=1, shuffle=False))\n",
    "# .predict() returns an iterator of dicts; convert to a list and print\n",
    "# predictions\n",
    "predictions = list(p[\"predictions\"] for p in itertools.islice(y, 6))\n",
    "print(\"Predictions: {}\".format(str(predictions)))"
   ]
  },
  {
   "cell_type": "code",
   "execution_count": null,
   "metadata": {
    "collapsed": true
   },
   "outputs": [],
   "source": []
  }
 ],
 "metadata": {
  "kernelspec": {
   "display_name": "Python 3",
   "language": "python",
   "name": "python3"
  },
  "language_info": {
   "codemirror_mode": {
    "name": "ipython",
    "version": 3
   },
   "file_extension": ".py",
   "mimetype": "text/x-python",
   "name": "python",
   "nbconvert_exporter": "python",
   "pygments_lexer": "ipython3",
   "version": "3.6.1"
  }
 },
 "nbformat": 4,
 "nbformat_minor": 2
}
