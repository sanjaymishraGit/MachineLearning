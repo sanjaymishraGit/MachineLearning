{
 "cells": [
  {
   "cell_type": "code",
   "execution_count": 1,
   "metadata": {
    "collapsed": true
   },
   "outputs": [],
   "source": [
    "#build a neural network to predict the magnitude of an Earthquake given the 'date', 'time', 'Latitude', and 'Longitude' as features\n",
    "#Optimize at least 1 hyperparameter using Random Search\n",
    "import numpy as np\n",
    "import pandas as pd\n",
    "import matplotlib.pyplot as plt\n",
    "from sklearn.model_selection import train_test_split"
   ]
  },
  {
   "cell_type": "code",
   "execution_count": 2,
   "metadata": {},
   "outputs": [
    {
     "data": {
      "text/html": [
       "<div>\n",
       "<style>\n",
       "    .dataframe thead tr:only-child th {\n",
       "        text-align: right;\n",
       "    }\n",
       "\n",
       "    .dataframe thead th {\n",
       "        text-align: left;\n",
       "    }\n",
       "\n",
       "    .dataframe tbody tr th {\n",
       "        vertical-align: top;\n",
       "    }\n",
       "</style>\n",
       "<table border=\"1\" class=\"dataframe\">\n",
       "  <thead>\n",
       "    <tr style=\"text-align: right;\">\n",
       "      <th></th>\n",
       "      <th>Date</th>\n",
       "      <th>Time</th>\n",
       "      <th>Latitude</th>\n",
       "      <th>Longitude</th>\n",
       "      <th>Magnitude</th>\n",
       "    </tr>\n",
       "  </thead>\n",
       "  <tbody>\n",
       "    <tr>\n",
       "      <th>0</th>\n",
       "      <td>01/02/1965</td>\n",
       "      <td>13:44:18</td>\n",
       "      <td>19.246</td>\n",
       "      <td>145.616</td>\n",
       "      <td>6.0</td>\n",
       "    </tr>\n",
       "    <tr>\n",
       "      <th>1</th>\n",
       "      <td>01/04/1965</td>\n",
       "      <td>11:29:49</td>\n",
       "      <td>1.863</td>\n",
       "      <td>127.352</td>\n",
       "      <td>5.8</td>\n",
       "    </tr>\n",
       "    <tr>\n",
       "      <th>2</th>\n",
       "      <td>01/05/1965</td>\n",
       "      <td>18:05:58</td>\n",
       "      <td>-20.579</td>\n",
       "      <td>-173.972</td>\n",
       "      <td>6.2</td>\n",
       "    </tr>\n",
       "    <tr>\n",
       "      <th>3</th>\n",
       "      <td>01/08/1965</td>\n",
       "      <td>18:49:43</td>\n",
       "      <td>-59.076</td>\n",
       "      <td>-23.557</td>\n",
       "      <td>5.8</td>\n",
       "    </tr>\n",
       "    <tr>\n",
       "      <th>4</th>\n",
       "      <td>01/09/1965</td>\n",
       "      <td>13:32:50</td>\n",
       "      <td>11.938</td>\n",
       "      <td>126.427</td>\n",
       "      <td>5.8</td>\n",
       "    </tr>\n",
       "    <tr>\n",
       "      <th>5</th>\n",
       "      <td>01/10/1965</td>\n",
       "      <td>13:36:32</td>\n",
       "      <td>-13.405</td>\n",
       "      <td>166.629</td>\n",
       "      <td>6.7</td>\n",
       "    </tr>\n",
       "    <tr>\n",
       "      <th>6</th>\n",
       "      <td>01/12/1965</td>\n",
       "      <td>13:32:25</td>\n",
       "      <td>27.357</td>\n",
       "      <td>87.867</td>\n",
       "      <td>5.9</td>\n",
       "    </tr>\n",
       "    <tr>\n",
       "      <th>7</th>\n",
       "      <td>01/15/1965</td>\n",
       "      <td>23:17:42</td>\n",
       "      <td>-13.309</td>\n",
       "      <td>166.212</td>\n",
       "      <td>6.0</td>\n",
       "    </tr>\n",
       "    <tr>\n",
       "      <th>8</th>\n",
       "      <td>01/16/1965</td>\n",
       "      <td>11:32:37</td>\n",
       "      <td>-56.452</td>\n",
       "      <td>-27.043</td>\n",
       "      <td>6.0</td>\n",
       "    </tr>\n",
       "    <tr>\n",
       "      <th>9</th>\n",
       "      <td>01/17/1965</td>\n",
       "      <td>10:43:17</td>\n",
       "      <td>-24.563</td>\n",
       "      <td>178.487</td>\n",
       "      <td>5.8</td>\n",
       "    </tr>\n",
       "  </tbody>\n",
       "</table>\n",
       "</div>"
      ],
      "text/plain": [
       "         Date      Time  Latitude  Longitude  Magnitude\n",
       "0  01/02/1965  13:44:18    19.246    145.616        6.0\n",
       "1  01/04/1965  11:29:49     1.863    127.352        5.8\n",
       "2  01/05/1965  18:05:58   -20.579   -173.972        6.2\n",
       "3  01/08/1965  18:49:43   -59.076    -23.557        5.8\n",
       "4  01/09/1965  13:32:50    11.938    126.427        5.8\n",
       "5  01/10/1965  13:36:32   -13.405    166.629        6.7\n",
       "6  01/12/1965  13:32:25    27.357     87.867        5.9\n",
       "7  01/15/1965  23:17:42   -13.309    166.212        6.0\n",
       "8  01/16/1965  11:32:37   -56.452    -27.043        6.0\n",
       "9  01/17/1965  10:43:17   -24.563    178.487        5.8"
      ]
     },
     "execution_count": 2,
     "metadata": {},
     "output_type": "execute_result"
    }
   ],
   "source": [
    "df = pd.read_csv('database.csv')\n",
    "df = df[['Date','Time','Latitude','Longitude','Magnitude']]\n",
    "df = df.dropna()\n",
    "df.head(10)"
   ]
  },
  {
   "cell_type": "code",
   "execution_count": 3,
   "metadata": {
    "collapsed": true
   },
   "outputs": [],
   "source": [
    "# Masage the Date column to get it into days since beginning of data\n",
    "df.Date = pd.to_datetime(df['Date'])\n",
    "df.Date = df['Date'].values.astype('datetime64[D]')\n",
    "df.Date = df.Date - df.Date.min()\n",
    "df.Date = df.Date.values / np.timedelta64(1, 'D')\n",
    "df.Date = df.Date.values.astype('int')"
   ]
  },
  {
   "cell_type": "code",
   "execution_count": 4,
   "metadata": {},
   "outputs": [
    {
     "data": {
      "text/html": [
       "<div>\n",
       "<style>\n",
       "    .dataframe thead tr:only-child th {\n",
       "        text-align: right;\n",
       "    }\n",
       "\n",
       "    .dataframe thead th {\n",
       "        text-align: left;\n",
       "    }\n",
       "\n",
       "    .dataframe tbody tr th {\n",
       "        vertical-align: top;\n",
       "    }\n",
       "</style>\n",
       "<table border=\"1\" class=\"dataframe\">\n",
       "  <thead>\n",
       "    <tr style=\"text-align: right;\">\n",
       "      <th></th>\n",
       "      <th>Date</th>\n",
       "      <th>Time</th>\n",
       "      <th>Latitude</th>\n",
       "      <th>Longitude</th>\n",
       "      <th>Magnitude</th>\n",
       "    </tr>\n",
       "  </thead>\n",
       "  <tbody>\n",
       "    <tr>\n",
       "      <th>0</th>\n",
       "      <td>0</td>\n",
       "      <td>13:44:18</td>\n",
       "      <td>19.246</td>\n",
       "      <td>145.616</td>\n",
       "      <td>6.0</td>\n",
       "    </tr>\n",
       "    <tr>\n",
       "      <th>1</th>\n",
       "      <td>2</td>\n",
       "      <td>11:29:49</td>\n",
       "      <td>1.863</td>\n",
       "      <td>127.352</td>\n",
       "      <td>5.8</td>\n",
       "    </tr>\n",
       "    <tr>\n",
       "      <th>2</th>\n",
       "      <td>3</td>\n",
       "      <td>18:05:58</td>\n",
       "      <td>-20.579</td>\n",
       "      <td>-173.972</td>\n",
       "      <td>6.2</td>\n",
       "    </tr>\n",
       "    <tr>\n",
       "      <th>3</th>\n",
       "      <td>6</td>\n",
       "      <td>18:49:43</td>\n",
       "      <td>-59.076</td>\n",
       "      <td>-23.557</td>\n",
       "      <td>5.8</td>\n",
       "    </tr>\n",
       "    <tr>\n",
       "      <th>4</th>\n",
       "      <td>7</td>\n",
       "      <td>13:32:50</td>\n",
       "      <td>11.938</td>\n",
       "      <td>126.427</td>\n",
       "      <td>5.8</td>\n",
       "    </tr>\n",
       "    <tr>\n",
       "      <th>5</th>\n",
       "      <td>8</td>\n",
       "      <td>13:36:32</td>\n",
       "      <td>-13.405</td>\n",
       "      <td>166.629</td>\n",
       "      <td>6.7</td>\n",
       "    </tr>\n",
       "    <tr>\n",
       "      <th>6</th>\n",
       "      <td>10</td>\n",
       "      <td>13:32:25</td>\n",
       "      <td>27.357</td>\n",
       "      <td>87.867</td>\n",
       "      <td>5.9</td>\n",
       "    </tr>\n",
       "    <tr>\n",
       "      <th>7</th>\n",
       "      <td>13</td>\n",
       "      <td>23:17:42</td>\n",
       "      <td>-13.309</td>\n",
       "      <td>166.212</td>\n",
       "      <td>6.0</td>\n",
       "    </tr>\n",
       "    <tr>\n",
       "      <th>8</th>\n",
       "      <td>14</td>\n",
       "      <td>11:32:37</td>\n",
       "      <td>-56.452</td>\n",
       "      <td>-27.043</td>\n",
       "      <td>6.0</td>\n",
       "    </tr>\n",
       "    <tr>\n",
       "      <th>9</th>\n",
       "      <td>15</td>\n",
       "      <td>10:43:17</td>\n",
       "      <td>-24.563</td>\n",
       "      <td>178.487</td>\n",
       "      <td>5.8</td>\n",
       "    </tr>\n",
       "  </tbody>\n",
       "</table>\n",
       "</div>"
      ],
      "text/plain": [
       "   Date      Time  Latitude  Longitude  Magnitude\n",
       "0     0  13:44:18    19.246    145.616        6.0\n",
       "1     2  11:29:49     1.863    127.352        5.8\n",
       "2     3  18:05:58   -20.579   -173.972        6.2\n",
       "3     6  18:49:43   -59.076    -23.557        5.8\n",
       "4     7  13:32:50    11.938    126.427        5.8\n",
       "5     8  13:36:32   -13.405    166.629        6.7\n",
       "6    10  13:32:25    27.357     87.867        5.9\n",
       "7    13  23:17:42   -13.309    166.212        6.0\n",
       "8    14  11:32:37   -56.452    -27.043        6.0\n",
       "9    15  10:43:17   -24.563    178.487        5.8"
      ]
     },
     "execution_count": 4,
     "metadata": {},
     "output_type": "execute_result"
    }
   ],
   "source": [
    "df.head(10)"
   ]
  },
  {
   "cell_type": "code",
   "execution_count": 5,
   "metadata": {},
   "outputs": [
    {
     "data": {
      "text/html": [
       "<div>\n",
       "<style>\n",
       "    .dataframe thead tr:only-child th {\n",
       "        text-align: right;\n",
       "    }\n",
       "\n",
       "    .dataframe thead th {\n",
       "        text-align: left;\n",
       "    }\n",
       "\n",
       "    .dataframe tbody tr th {\n",
       "        vertical-align: top;\n",
       "    }\n",
       "</style>\n",
       "<table border=\"1\" class=\"dataframe\">\n",
       "  <thead>\n",
       "    <tr style=\"text-align: right;\">\n",
       "      <th></th>\n",
       "      <th>Date</th>\n",
       "      <th>Time</th>\n",
       "      <th>Latitude</th>\n",
       "      <th>Longitude</th>\n",
       "      <th>Magnitude</th>\n",
       "    </tr>\n",
       "  </thead>\n",
       "  <tbody>\n",
       "    <tr>\n",
       "      <th>0</th>\n",
       "      <td>0</td>\n",
       "      <td>49458</td>\n",
       "      <td>19.246</td>\n",
       "      <td>145.616</td>\n",
       "      <td>6.0</td>\n",
       "    </tr>\n",
       "    <tr>\n",
       "      <th>1</th>\n",
       "      <td>2</td>\n",
       "      <td>41389</td>\n",
       "      <td>1.863</td>\n",
       "      <td>127.352</td>\n",
       "      <td>5.8</td>\n",
       "    </tr>\n",
       "    <tr>\n",
       "      <th>2</th>\n",
       "      <td>3</td>\n",
       "      <td>65158</td>\n",
       "      <td>-20.579</td>\n",
       "      <td>-173.972</td>\n",
       "      <td>6.2</td>\n",
       "    </tr>\n",
       "    <tr>\n",
       "      <th>3</th>\n",
       "      <td>6</td>\n",
       "      <td>67783</td>\n",
       "      <td>-59.076</td>\n",
       "      <td>-23.557</td>\n",
       "      <td>5.8</td>\n",
       "    </tr>\n",
       "    <tr>\n",
       "      <th>4</th>\n",
       "      <td>7</td>\n",
       "      <td>48770</td>\n",
       "      <td>11.938</td>\n",
       "      <td>126.427</td>\n",
       "      <td>5.8</td>\n",
       "    </tr>\n",
       "    <tr>\n",
       "      <th>5</th>\n",
       "      <td>8</td>\n",
       "      <td>48992</td>\n",
       "      <td>-13.405</td>\n",
       "      <td>166.629</td>\n",
       "      <td>6.7</td>\n",
       "    </tr>\n",
       "    <tr>\n",
       "      <th>6</th>\n",
       "      <td>10</td>\n",
       "      <td>48745</td>\n",
       "      <td>27.357</td>\n",
       "      <td>87.867</td>\n",
       "      <td>5.9</td>\n",
       "    </tr>\n",
       "    <tr>\n",
       "      <th>7</th>\n",
       "      <td>13</td>\n",
       "      <td>83862</td>\n",
       "      <td>-13.309</td>\n",
       "      <td>166.212</td>\n",
       "      <td>6.0</td>\n",
       "    </tr>\n",
       "    <tr>\n",
       "      <th>8</th>\n",
       "      <td>14</td>\n",
       "      <td>41557</td>\n",
       "      <td>-56.452</td>\n",
       "      <td>-27.043</td>\n",
       "      <td>6.0</td>\n",
       "    </tr>\n",
       "    <tr>\n",
       "      <th>9</th>\n",
       "      <td>15</td>\n",
       "      <td>38597</td>\n",
       "      <td>-24.563</td>\n",
       "      <td>178.487</td>\n",
       "      <td>5.8</td>\n",
       "    </tr>\n",
       "  </tbody>\n",
       "</table>\n",
       "</div>"
      ],
      "text/plain": [
       "   Date   Time  Latitude  Longitude  Magnitude\n",
       "0     0  49458    19.246    145.616        6.0\n",
       "1     2  41389     1.863    127.352        5.8\n",
       "2     3  65158   -20.579   -173.972        6.2\n",
       "3     6  67783   -59.076    -23.557        5.8\n",
       "4     7  48770    11.938    126.427        5.8\n",
       "5     8  48992   -13.405    166.629        6.7\n",
       "6    10  48745    27.357     87.867        5.9\n",
       "7    13  83862   -13.309    166.212        6.0\n",
       "8    14  41557   -56.452    -27.043        6.0\n",
       "9    15  38597   -24.563    178.487        5.8"
      ]
     },
     "execution_count": 5,
     "metadata": {},
     "output_type": "execute_result"
    }
   ],
   "source": [
    "# Masage the Time column to get it in seconds since 00:00:00\n",
    "import datetime\n",
    "df.Time = pd.to_datetime(df['Time'])\n",
    "now = datetime.datetime.now()\n",
    "midnight = now.replace(hour=0, minute=0, second=0, microsecond=0)\n",
    "df.Time = df.Time - midnight\n",
    "df.Time = df.Time.values / np.timedelta64(1, 's')\n",
    "df.Time = df.Time.values.astype('int')\n",
    "df.head(10)"
   ]
  },
  {
   "cell_type": "code",
   "execution_count": 6,
   "metadata": {
    "collapsed": true
   },
   "outputs": [],
   "source": [
    "def normalize(column):\n",
    "    min = column.min()\n",
    "    max = column.max()\n",
    "    column = (column - min)/(max - min)\n",
    "    return column"
   ]
  },
  {
   "cell_type": "code",
   "execution_count": 7,
   "metadata": {},
   "outputs": [
    {
     "data": {
      "text/html": [
       "<div>\n",
       "<style>\n",
       "    .dataframe thead tr:only-child th {\n",
       "        text-align: right;\n",
       "    }\n",
       "\n",
       "    .dataframe thead th {\n",
       "        text-align: left;\n",
       "    }\n",
       "\n",
       "    .dataframe tbody tr th {\n",
       "        vertical-align: top;\n",
       "    }\n",
       "</style>\n",
       "<table border=\"1\" class=\"dataframe\">\n",
       "  <thead>\n",
       "    <tr style=\"text-align: right;\">\n",
       "      <th></th>\n",
       "      <th>Date</th>\n",
       "      <th>Time</th>\n",
       "      <th>Latitude</th>\n",
       "      <th>Longitude</th>\n",
       "      <th>Magnitude</th>\n",
       "      <th>NormMagnitude</th>\n",
       "      <th>Bias</th>\n",
       "    </tr>\n",
       "  </thead>\n",
       "  <tbody>\n",
       "    <tr>\n",
       "      <th>0</th>\n",
       "      <td>0.000000</td>\n",
       "      <td>0.999973</td>\n",
       "      <td>0.590649</td>\n",
       "      <td>0.904493</td>\n",
       "      <td>6.0</td>\n",
       "      <td>0.138889</td>\n",
       "      <td>1</td>\n",
       "    </tr>\n",
       "    <tr>\n",
       "      <th>1</th>\n",
       "      <td>0.000105</td>\n",
       "      <td>0.999967</td>\n",
       "      <td>0.484060</td>\n",
       "      <td>0.853759</td>\n",
       "      <td>5.8</td>\n",
       "      <td>0.083333</td>\n",
       "      <td>1</td>\n",
       "    </tr>\n",
       "    <tr>\n",
       "      <th>2</th>\n",
       "      <td>0.000158</td>\n",
       "      <td>0.999984</td>\n",
       "      <td>0.346451</td>\n",
       "      <td>0.016736</td>\n",
       "      <td>6.2</td>\n",
       "      <td>0.194444</td>\n",
       "      <td>1</td>\n",
       "    </tr>\n",
       "    <tr>\n",
       "      <th>3</th>\n",
       "      <td>0.000316</td>\n",
       "      <td>0.999986</td>\n",
       "      <td>0.110396</td>\n",
       "      <td>0.434562</td>\n",
       "      <td>5.8</td>\n",
       "      <td>0.083333</td>\n",
       "      <td>1</td>\n",
       "    </tr>\n",
       "    <tr>\n",
       "      <th>4</th>\n",
       "      <td>0.000369</td>\n",
       "      <td>0.999972</td>\n",
       "      <td>0.545838</td>\n",
       "      <td>0.851190</td>\n",
       "      <td>5.8</td>\n",
       "      <td>0.083333</td>\n",
       "      <td>1</td>\n",
       "    </tr>\n",
       "    <tr>\n",
       "      <th>5</th>\n",
       "      <td>0.000421</td>\n",
       "      <td>0.999972</td>\n",
       "      <td>0.390441</td>\n",
       "      <td>0.962863</td>\n",
       "      <td>6.7</td>\n",
       "      <td>0.333333</td>\n",
       "      <td>1</td>\n",
       "    </tr>\n",
       "    <tr>\n",
       "      <th>6</th>\n",
       "      <td>0.000527</td>\n",
       "      <td>0.999972</td>\n",
       "      <td>0.640384</td>\n",
       "      <td>0.744077</td>\n",
       "      <td>5.9</td>\n",
       "      <td>0.111111</td>\n",
       "      <td>1</td>\n",
       "    </tr>\n",
       "    <tr>\n",
       "      <th>7</th>\n",
       "      <td>0.000685</td>\n",
       "      <td>0.999998</td>\n",
       "      <td>0.391029</td>\n",
       "      <td>0.961705</td>\n",
       "      <td>6.0</td>\n",
       "      <td>0.138889</td>\n",
       "      <td>1</td>\n",
       "    </tr>\n",
       "    <tr>\n",
       "      <th>8</th>\n",
       "      <td>0.000737</td>\n",
       "      <td>0.999967</td>\n",
       "      <td>0.126486</td>\n",
       "      <td>0.424878</td>\n",
       "      <td>6.0</td>\n",
       "      <td>0.138889</td>\n",
       "      <td>1</td>\n",
       "    </tr>\n",
       "    <tr>\n",
       "      <th>9</th>\n",
       "      <td>0.000790</td>\n",
       "      <td>0.999964</td>\n",
       "      <td>0.322022</td>\n",
       "      <td>0.995803</td>\n",
       "      <td>5.8</td>\n",
       "      <td>0.083333</td>\n",
       "      <td>1</td>\n",
       "    </tr>\n",
       "  </tbody>\n",
       "</table>\n",
       "</div>"
      ],
      "text/plain": [
       "       Date      Time  Latitude  Longitude  Magnitude  NormMagnitude  Bias\n",
       "0  0.000000  0.999973  0.590649   0.904493        6.0       0.138889     1\n",
       "1  0.000105  0.999967  0.484060   0.853759        5.8       0.083333     1\n",
       "2  0.000158  0.999984  0.346451   0.016736        6.2       0.194444     1\n",
       "3  0.000316  0.999986  0.110396   0.434562        5.8       0.083333     1\n",
       "4  0.000369  0.999972  0.545838   0.851190        5.8       0.083333     1\n",
       "5  0.000421  0.999972  0.390441   0.962863        6.7       0.333333     1\n",
       "6  0.000527  0.999972  0.640384   0.744077        5.9       0.111111     1\n",
       "7  0.000685  0.999998  0.391029   0.961705        6.0       0.138889     1\n",
       "8  0.000737  0.999967  0.126486   0.424878        6.0       0.138889     1\n",
       "9  0.000790  0.999964  0.322022   0.995803        5.8       0.083333     1"
      ]
     },
     "execution_count": 7,
     "metadata": {},
     "output_type": "execute_result"
    }
   ],
   "source": [
    "df.Date = normalize(df.Date)\n",
    "df.Time = normalize(df.Time)\n",
    "df.Latitude = normalize(df.Latitude)\n",
    "df.Longitude = normalize(df.Longitude)\n",
    "df['NormMagnitude'] = normalize(df.Magnitude)\n",
    "df['Bias'] = 1\n",
    "df.head(10)\n"
   ]
  },
  {
   "cell_type": "code",
   "execution_count": 8,
   "metadata": {},
   "outputs": [
    {
     "data": {
      "image/png": "[encoded data removed]",
      "text/plain": [
       "<matplotlib.figure.Figure at 0x1a602300828>"
      ]
     },
     "metadata": {},
     "output_type": "display_data"
    }
   ],
   "source": [
    "#Visualizations¶\n",
    "#Time of the Day\n",
    "df['Time'].plot.kde()\n",
    "plt.show()\n"
   ]
  },
  {
   "cell_type": "code",
   "execution_count": 9,
   "metadata": {},
   "outputs": [
    {
     "data": {
      "image/png": "[encoded data removed]",
      "text/plain": [
       "<matplotlib.figure.Figure at 0x1a6066be8d0>"
      ]
     },
     "metadata": {},
     "output_type": "display_data"
    }
   ],
   "source": [
    "df['Date'].plot.kde()\n",
    "plt.show()"
   ]
  },
  {
   "cell_type": "code",
   "execution_count": 10,
   "metadata": {},
   "outputs": [
    {
     "data": {
      "image/png": "[encoded data removed]",
      "text/plain": [
       "<matplotlib.figure.Figure at 0x1a6065feef0>"
      ]
     },
     "metadata": {},
     "output_type": "display_data"
    }
   ],
   "source": [
    "#hexbin plot where the x axis is the the date and the y axis is the normalized time of day.\n",
    "\n",
    "df.plot.hexbin(x='Date', y='Time', gridsize=25)\n",
    "plt.show()"
   ]
  },
  {
   "cell_type": "code",
   "execution_count": 11,
   "metadata": {},
   "outputs": [
    {
     "data": {
      "image/png": "[encoded data removed]",
      "text/plain": [
       "<matplotlib.figure.Figure at 0x1a60384fdd8>"
      ]
     },
     "metadata": {},
     "output_type": "display_data"
    }
   ],
   "source": [
    "#Below we look at a hexbin plot of dates compared to the magnitude of reported earthquakes.\n",
    "df.plot.hexbin(x='Date', y='Magnitude', gridsize=25)\n",
    "plt.show()"
   ]
  },
  {
   "cell_type": "code",
   "execution_count": 12,
   "metadata": {},
   "outputs": [
    {
     "data": {
      "image/png": "[encoded data removed]",
      "text/plain": [
       "<matplotlib.figure.Figure at 0x1a606598048>"
      ]
     },
     "metadata": {},
     "output_type": "display_data"
    }
   ],
   "source": [
    "#Below is a histogram of the frequency of magnitudes.\n",
    "df.Magnitude.plot.hist(stacked=True, bins=20)\n",
    "plt.show()\n",
    "#We can see a strong affinity for smaller earthquakes, which is good news :)\n"
   ]
  },
  {
   "cell_type": "code",
   "execution_count": 13,
   "metadata": {},
   "outputs": [
    {
     "data": {
      "image/png": "[encoded data removed]",
      "text/plain": [
       "<matplotlib.figure.Figure at 0x1a606c83940>"
      ]
     },
     "metadata": {},
     "output_type": "display_data"
    }
   ],
   "source": [
    "#We all know that certain areas of the world experience a much higher frequency of earthquakes than the majority of the world\n",
    "df.plot.hexbin(x='Longitude', y='Latitude', gridsize=20)\n",
    "plt.show()"
   ]
  },
  {
   "cell_type": "code",
   "execution_count": 14,
   "metadata": {},
   "outputs": [
    {
     "name": "stdout",
     "output_type": "stream",
     "text": [
      "[[ 0.91174302  0.99995448  0.74765306  0.53079348  1.        ]\n",
      " [ 0.81263823  0.9999892   0.36698654  0.68552897  1.        ]\n",
      " [ 0.05313323  0.9999843   0.43815802  0.92794067  1.        ]\n",
      " ..., \n",
      " [ 0.59489205  0.99998918  0.74691112  0.91758219  1.        ]\n",
      " [ 0.11258557  0.99997267  0.27667781  0.0051334   1.        ]\n",
      " [ 0.98609795  0.99994174  0.44719686  0.783922    1.        ]]\n",
      "[[ 0.08333333]\n",
      " [ 0.11111111]\n",
      " [ 0.11111111]\n",
      " ..., \n",
      " [ 0.        ]\n",
      " [ 0.02777778]\n",
      " [ 0.05555556]]\n"
     ]
    }
   ],
   "source": [
    "train, test = train_test_split(df, test_size = 0.2)\n",
    "x = train.as_matrix(['Date', 'Time', 'Latitude', 'Longitude', 'Bias'])\n",
    "print(x)\n",
    "y = train.as_matrix(['NormMagnitude'])\n",
    "print(y)"
   ]
  },
  {
   "cell_type": "code",
   "execution_count": 15,
   "metadata": {
    "collapsed": true
   },
   "outputs": [],
   "source": [
    "# Step2: Build Model\n",
    "num_epochs = 60000\n",
    "#initialize weights\n",
    "# This is for input node : size is 5*7 and weight value is -1<w<1\n",
    "syn0 = 2*np.random.random((5,7)) \n",
    "#This is from hidden node to output node : size needs to be 7*1 and weeight needs to be -1<w<1\n",
    "syn1 = 2*np.random.random((7,1)) "
   ]
  },
  {
   "cell_type": "code",
   "execution_count": 16,
   "metadata": {
    "scrolled": true
   },
   "outputs": [
    {
     "name": "stdout",
     "output_type": "stream",
     "text": [
      "[[ 0.25470503  0.23660962  1.42308116  0.60460085  1.40418492  1.16241189\n",
      "   0.12969676]\n",
      " [ 0.48461831  0.77527149  0.7314384   0.21124606  0.81542671  1.09447572\n",
      "   1.96452182]\n",
      " [ 0.52117905  1.87416087  1.50034462  1.16666124  1.92024759  1.57742506\n",
      "   1.11794776]\n",
      " [ 1.16718153  1.06041292  1.61891987  0.89733461  1.62263872  0.85282923\n",
      "   0.7448353 ]\n",
      " [ 0.67823709  1.05098723  1.83480082  1.26864612  0.78087921  0.68062211\n",
      "   0.76190526]]\n"
     ]
    }
   ],
   "source": [
    "print(syn0)"
   ]
  },
  {
   "cell_type": "code",
   "execution_count": 17,
   "metadata": {
    "collapsed": true
   },
   "outputs": [],
   "source": [
    "#Sigmoid function for activation function\n",
    "def nonlin(x,deriv=False):\n",
    "    if(deriv==True):\n",
    "        return x*(1-x)\n",
    "\n",
    "    return 1/(1+np.exp(-x))"
   ]
  },
  {
   "cell_type": "code",
   "execution_count": 18,
   "metadata": {},
   "outputs": [
    {
     "name": "stdout",
     "output_type": "stream",
     "text": [
      "[[ 0.33525258]\n",
      " [ 0.77600143]\n",
      " [-0.90666773]\n",
      " [-0.15947321]\n",
      " [-0.73378475]\n",
      " [ 0.38942705]\n",
      " [-0.25533385]]\n"
     ]
    }
   ],
   "source": [
    "print(syn1)"
   ]
  },
  {
   "cell_type": "code",
   "execution_count": null,
   "metadata": {},
   "outputs": [
    {
     "name": "stdout",
     "output_type": "stream",
     "text": [
      "Error:0.255214683845\n"
     ]
    },
    {
     "name": "stderr",
     "output_type": "stream",
     "text": [
      "C:\\ProgramData\\Anaconda3\\lib\\site-packages\\ipykernel_launcher.py:6: RuntimeWarning: overflow encountered in exp\n",
      "  \n"
     ]
    }
   ],
   "source": [
    "#Step 3 Train Model\n",
    "for j in range(num_epochs):\n",
    "    #feed forward through layers 0,1, and 2\n",
    "    k0 = x\n",
    "    k1 = nonlin(np.dot(k0, syn0))\n",
    "    k2 = nonlin(np.dot(k1, syn1))\n",
    "    #how much did we miss the target value?\n",
    "    k2_error = y - k2\n",
    "    \n",
    "    if (j% 10000) == 0:\n",
    "        print( \"Error:\" + str(np.mean(np.abs(k2_error))))\n",
    "    \n",
    "    #in what direction is the target value?\n",
    "    k2_delta = k2_error*nonlin(k2, deriv=True)\n",
    "    \n",
    "    #how much did each k1 value contribute to k2 error\n",
    "    #backpropogation- update weight value\n",
    "    k1_error = k2_delta.dot(syn1.T)\n",
    "    \n",
    "    #in what direction is the target value?\n",
    "    k1_delta= k1_error * nonlin(k1,deriv=True)\n",
    "    \n",
    "    \n",
    "    syn1 += k1.T.dot(k2_delta)\n",
    "    syn0 += k0.T.dot(k1_delta)"
   ]
  },
  {
   "cell_type": "code",
   "execution_count": null,
   "metadata": {
    "collapsed": true
   },
   "outputs": [],
   "source": []
  }
 ],
 "metadata": {
  "kernelspec": {
   "display_name": "Python 3",
   "language": "python",
   "name": "python3"
  },
  "language_info": {
   "codemirror_mode": {
    "name": "ipython",
    "version": 3
   },
   "file_extension": ".py",
   "mimetype": "text/x-python",
   "name": "python",
   "nbconvert_exporter": "python",
   "pygments_lexer": "ipython3",
   "version": "3.6.1"
  }
 },
 "nbformat": 4,
 "nbformat_minor": 2
}
